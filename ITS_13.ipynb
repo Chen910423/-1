{
  "nbformat": 4,
  "nbformat_minor": 0,
  "metadata": {
    "colab": {
      "provenance": [],
      "authorship_tag": "ABX9TyPDKjtr0wNEHvnIWa05nSlc",
      "include_colab_link": true
    },
    "kernelspec": {
      "name": "python3",
      "display_name": "Python 3"
    },
    "language_info": {
      "name": "python"
    }
  },
  "cells": [
    {
      "cell_type": "markdown",
      "metadata": {
        "id": "view-in-github",
        "colab_type": "text"
      },
      "source": [
        "<a href=\"https://colab.research.google.com/github/Chen910423/-1/blob/main/ITS_13.ipynb\" target=\"_parent\"><img src=\"https://colab.research.google.com/assets/colab-badge.svg\" alt=\"Open In Colab\"/></a>"
      ]
    },
    {
      "cell_type": "code",
      "execution_count": 21,
      "metadata": {
        "colab": {
          "base_uri": "https://localhost:8080/"
        },
        "id": "6GrOAOBW4MhF",
        "outputId": "680921e9-d3d4-4721-91d5-2c8579e4c1c6"
      },
      "outputs": [
        {
          "output_type": "stream",
          "name": "stdout",
          "text": [
            "Enter next rating (1-5, -1 for done)5\n",
            "Enter next rating (1-5, -1 for done)2\n",
            "Enter next rating (1-5, -1 for done)-1\n",
            "The average star rating for the new coffee is3.50\n"
          ]
        }
      ],
      "source": [
        "sum = count = done = 0\n",
        "average = 0.0\n",
        "\n",
        "while done != -1:\n",
        "\trating = float(input(\"Enter next rating (1-5, -1 for done)\"))\n",
        "\tif rating == -1:\n",
        "\t\tprint(\"The average star rating for the new coffee is{:.2f}\".format(average))\n",
        "\t\tbreak\n",
        "\tsum += rating\n",
        "\tcount += 1\n",
        "\taverage = float(sum / count)\n"
      ]
    }
  ]
}